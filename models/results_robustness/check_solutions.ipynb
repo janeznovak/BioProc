{
 "cells": [
  {
   "cell_type": "code",
   "execution_count": 1,
   "metadata": {},
   "outputs": [],
   "source": [
    "import pandas as pd\n",
    "import matplotlib.pyplot as plt\n",
    "import numpy as np\n",
    "import seaborn as sns"
   ]
  },
  {
   "cell_type": "code",
   "execution_count": 2,
   "metadata": {},
   "outputs": [],
   "source": [
    "df = pd.read_csv('costs_both.csv')"
   ]
  },
  {
   "cell_type": "code",
   "execution_count": 3,
   "metadata": {},
   "outputs": [
    {
     "data": {
      "text/html": [
       "<div>\n",
       "<style scoped>\n",
       "    .dataframe tbody tr th:only-of-type {\n",
       "        vertical-align: middle;\n",
       "    }\n",
       "\n",
       "    .dataframe tbody tr th {\n",
       "        vertical-align: top;\n",
       "    }\n",
       "\n",
       "    .dataframe thead th {\n",
       "        text-align: right;\n",
       "    }\n",
       "</style>\n",
       "<table border=\"1\" class=\"dataframe\">\n",
       "  <thead>\n",
       "    <tr style=\"text-align: right;\">\n",
       "      <th></th>\n",
       "      <th>Model id</th>\n",
       "      <th>Region id</th>\n",
       "      <th>cost</th>\n",
       "    </tr>\n",
       "  </thead>\n",
       "  <tbody>\n",
       "    <tr>\n",
       "      <th>0</th>\n",
       "      <td>1.0</td>\n",
       "      <td>1.0</td>\n",
       "      <td>24.953121</td>\n",
       "    </tr>\n",
       "    <tr>\n",
       "      <th>1</th>\n",
       "      <td>1.0</td>\n",
       "      <td>1.0</td>\n",
       "      <td>23.785084</td>\n",
       "    </tr>\n",
       "    <tr>\n",
       "      <th>2</th>\n",
       "      <td>1.0</td>\n",
       "      <td>1.0</td>\n",
       "      <td>22.811177</td>\n",
       "    </tr>\n",
       "    <tr>\n",
       "      <th>3</th>\n",
       "      <td>1.0</td>\n",
       "      <td>1.0</td>\n",
       "      <td>29.283847</td>\n",
       "    </tr>\n",
       "    <tr>\n",
       "      <th>4</th>\n",
       "      <td>1.0</td>\n",
       "      <td>1.0</td>\n",
       "      <td>27.992041</td>\n",
       "    </tr>\n",
       "    <tr>\n",
       "      <th>...</th>\n",
       "      <td>...</td>\n",
       "      <td>...</td>\n",
       "      <td>...</td>\n",
       "    </tr>\n",
       "    <tr>\n",
       "      <th>141735</th>\n",
       "      <td>4.0</td>\n",
       "      <td>4.0</td>\n",
       "      <td>14.769500</td>\n",
       "    </tr>\n",
       "    <tr>\n",
       "      <th>141736</th>\n",
       "      <td>4.0</td>\n",
       "      <td>4.0</td>\n",
       "      <td>11.643729</td>\n",
       "    </tr>\n",
       "    <tr>\n",
       "      <th>141737</th>\n",
       "      <td>4.0</td>\n",
       "      <td>4.0</td>\n",
       "      <td>16.068485</td>\n",
       "    </tr>\n",
       "    <tr>\n",
       "      <th>141738</th>\n",
       "      <td>4.0</td>\n",
       "      <td>4.0</td>\n",
       "      <td>13.149129</td>\n",
       "    </tr>\n",
       "    <tr>\n",
       "      <th>141739</th>\n",
       "      <td>4.0</td>\n",
       "      <td>4.0</td>\n",
       "      <td>16.131869</td>\n",
       "    </tr>\n",
       "  </tbody>\n",
       "</table>\n",
       "<p>141740 rows × 3 columns</p>\n",
       "</div>"
      ],
      "text/plain": [
       "        Model id  Region id       cost\n",
       "0            1.0        1.0  24.953121\n",
       "1            1.0        1.0  23.785084\n",
       "2            1.0        1.0  22.811177\n",
       "3            1.0        1.0  29.283847\n",
       "4            1.0        1.0  27.992041\n",
       "...          ...        ...        ...\n",
       "141735       4.0        4.0  14.769500\n",
       "141736       4.0        4.0  11.643729\n",
       "141737       4.0        4.0  16.068485\n",
       "141738       4.0        4.0  13.149129\n",
       "141739       4.0        4.0  16.131869\n",
       "\n",
       "[141740 rows x 3 columns]"
      ]
     },
     "execution_count": 3,
     "metadata": {},
     "output_type": "execute_result"
    }
   ],
   "source": [
    "df"
   ]
  },
  {
   "cell_type": "code",
   "execution_count": 4,
   "metadata": {},
   "outputs": [],
   "source": [
    "#thresholds = [30, 20, 18, 17]\n",
    "thresholds = [30, 20, 20, 20]"
   ]
  },
  {
   "cell_type": "code",
   "execution_count": 5,
   "metadata": {},
   "outputs": [],
   "source": [
    "df_comp = pd.DataFrame(columns =['Model id', 'Region id', 'compatible'])\n",
    "\n",
    "for model_id in range(1,5):\n",
    "    threshold = thresholds[model_id-1]\n",
    "    for region_id in range(1,5):\n",
    "        n = df[(df['Model id']== model_id) & (df['Region id']== region_id)].shape[0]\n",
    "        comp = df[(df['Model id']== model_id) & (df['Region id']== region_id) & (df['cost'] <= threshold)].shape[0]\n",
    "        df_comp = df_comp.append({'Model id': model_id, 'Region id': region_id, 'compatible': comp/n}, ignore_index=True)\n",
    "        \n",
    "        "
   ]
  },
  {
   "cell_type": "code",
   "execution_count": 6,
   "metadata": {},
   "outputs": [
    {
     "data": {
      "image/png": "[encoded data removed]",
      "text/plain": [
       "<Figure size 432x288 with 1 Axes>"
      ]
     },
     "metadata": {
      "needs_background": "light"
     },
     "output_type": "display_data"
    }
   ],
   "source": [
    "sns.barplot(x = 'Model id', y = 'compatible', data = df_comp, hue=\"Region id\", palette=\"Pastel1\")\n",
    "ax = plt.gca()\n",
    "l = ax.get_legend()\n",
    "l.set_bbox_to_anchor((1, 0.75))\n",
    "plt.show()"
   ]
  },
  {
   "cell_type": "code",
   "execution_count": 7,
   "metadata": {},
   "outputs": [],
   "source": [
    "for i in range(1,5):\n",
    "    df.drop(index=df[((df['Model id']==i) & (df['Region id']==i) & (df['cost'] > thresholds[i-1]))].index, inplace=True)"
   ]
  },
  {
   "cell_type": "code",
   "execution_count": 8,
   "metadata": {},
   "outputs": [
    {
     "name": "stdout",
     "output_type": "stream",
     "text": [
      "Empty DataFrame\n",
      "Columns: [Model id, Region id, cost]\n",
      "Index: []\n",
      "Empty DataFrame\n",
      "Columns: [Model id, Region id, cost]\n",
      "Index: []\n",
      "Empty DataFrame\n",
      "Columns: [Model id, Region id, cost]\n",
      "Index: []\n",
      "Empty DataFrame\n",
      "Columns: [Model id, Region id, cost]\n",
      "Index: []\n"
     ]
    }
   ],
   "source": [
    "for i in range(1,5):\n",
    "    print(df[(df['Model id']==i) & (df['Region id']==i) & (df['cost'] > thresholds[i-1])])"
   ]
  },
  {
   "cell_type": "code",
   "execution_count": 42,
   "metadata": {},
   "outputs": [],
   "source": [
    "df.to_csv('costs_both_2.csv', index=False)"
   ]
  },
  {
   "cell_type": "code",
   "execution_count": null,
   "metadata": {},
   "outputs": [],
   "source": []
  },
  {
   "cell_type": "code",
   "execution_count": null,
   "metadata": {},
   "outputs": [],
   "source": []
  },
  {
   "cell_type": "code",
   "execution_count": 36,
   "metadata": {},
   "outputs": [
    {
     "data": {
      "text/html": [
       "<div>\n",
       "<style scoped>\n",
       "    .dataframe tbody tr th:only-of-type {\n",
       "        vertical-align: middle;\n",
       "    }\n",
       "\n",
       "    .dataframe tbody tr th {\n",
       "        vertical-align: top;\n",
       "    }\n",
       "\n",
       "    .dataframe thead th {\n",
       "        text-align: right;\n",
       "    }\n",
       "</style>\n",
       "<table border=\"1\" class=\"dataframe\">\n",
       "  <thead>\n",
       "    <tr style=\"text-align: right;\">\n",
       "      <th></th>\n",
       "      <th>Model id</th>\n",
       "      <th>Region id</th>\n",
       "      <th>cost</th>\n",
       "    </tr>\n",
       "  </thead>\n",
       "  <tbody>\n",
       "    <tr>\n",
       "      <th>0</th>\n",
       "      <td>1.0</td>\n",
       "      <td>1.0</td>\n",
       "      <td>24.953121</td>\n",
       "    </tr>\n",
       "    <tr>\n",
       "      <th>1</th>\n",
       "      <td>1.0</td>\n",
       "      <td>1.0</td>\n",
       "      <td>23.785084</td>\n",
       "    </tr>\n",
       "    <tr>\n",
       "      <th>2</th>\n",
       "      <td>1.0</td>\n",
       "      <td>1.0</td>\n",
       "      <td>22.811177</td>\n",
       "    </tr>\n",
       "    <tr>\n",
       "      <th>3</th>\n",
       "      <td>1.0</td>\n",
       "      <td>1.0</td>\n",
       "      <td>29.283847</td>\n",
       "    </tr>\n",
       "    <tr>\n",
       "      <th>4</th>\n",
       "      <td>1.0</td>\n",
       "      <td>1.0</td>\n",
       "      <td>27.992041</td>\n",
       "    </tr>\n",
       "    <tr>\n",
       "      <th>...</th>\n",
       "      <td>...</td>\n",
       "      <td>...</td>\n",
       "      <td>...</td>\n",
       "    </tr>\n",
       "    <tr>\n",
       "      <th>141735</th>\n",
       "      <td>4.0</td>\n",
       "      <td>4.0</td>\n",
       "      <td>14.769500</td>\n",
       "    </tr>\n",
       "    <tr>\n",
       "      <th>141736</th>\n",
       "      <td>4.0</td>\n",
       "      <td>4.0</td>\n",
       "      <td>11.643729</td>\n",
       "    </tr>\n",
       "    <tr>\n",
       "      <th>141737</th>\n",
       "      <td>4.0</td>\n",
       "      <td>4.0</td>\n",
       "      <td>16.068485</td>\n",
       "    </tr>\n",
       "    <tr>\n",
       "      <th>141738</th>\n",
       "      <td>4.0</td>\n",
       "      <td>4.0</td>\n",
       "      <td>13.149129</td>\n",
       "    </tr>\n",
       "    <tr>\n",
       "      <th>141739</th>\n",
       "      <td>4.0</td>\n",
       "      <td>4.0</td>\n",
       "      <td>16.131869</td>\n",
       "    </tr>\n",
       "  </tbody>\n",
       "</table>\n",
       "<p>141735 rows × 3 columns</p>\n",
       "</div>"
      ],
      "text/plain": [
       "        Model id  Region id       cost\n",
       "0            1.0        1.0  24.953121\n",
       "1            1.0        1.0  23.785084\n",
       "2            1.0        1.0  22.811177\n",
       "3            1.0        1.0  29.283847\n",
       "4            1.0        1.0  27.992041\n",
       "...          ...        ...        ...\n",
       "141735       4.0        4.0  14.769500\n",
       "141736       4.0        4.0  11.643729\n",
       "141737       4.0        4.0  16.068485\n",
       "141738       4.0        4.0  13.149129\n",
       "141739       4.0        4.0  16.131869\n",
       "\n",
       "[141735 rows x 3 columns]"
      ]
     },
     "execution_count": 36,
     "metadata": {},
     "output_type": "execute_result"
    }
   ],
   "source": []
  },
  {
   "cell_type": "code",
   "execution_count": 140,
   "metadata": {},
   "outputs": [
    {
     "data": {
      "text/plain": [
       "(9124, 3)"
      ]
     },
     "execution_count": 140,
     "metadata": {},
     "output_type": "execute_result"
    }
   ],
   "source": [
    "df[(df['Model id']==3) & (df['Region id']==4)].shape"
   ]
  },
  {
   "cell_type": "code",
   "execution_count": 141,
   "metadata": {},
   "outputs": [
    {
     "data": {
      "text/plain": [
       "0.00010960105217010084"
      ]
     },
     "execution_count": 141,
     "metadata": {},
     "output_type": "execute_result"
    }
   ],
   "source": [
    "1/9124"
   ]
  }
 ],
 "metadata": {
  "kernelspec": {
   "display_name": "Python 3.7.6 64-bit ('opt': conda)",
   "language": "python",
   "name": "python37664bitoptconda7682a877a7f444b3afc1b0ca847868c9"
  },
  "language_info": {
   "codemirror_mode": {
    "name": "ipython",
    "version": 3
   },
   "file_extension": ".py",
   "mimetype": "text/x-python",
   "name": "python",
   "nbconvert_exporter": "python",
   "pygments_lexer": "ipython3",
   "version": "3.7.6"
  }
 },
 "nbformat": 4,
 "nbformat_minor": 4
}
